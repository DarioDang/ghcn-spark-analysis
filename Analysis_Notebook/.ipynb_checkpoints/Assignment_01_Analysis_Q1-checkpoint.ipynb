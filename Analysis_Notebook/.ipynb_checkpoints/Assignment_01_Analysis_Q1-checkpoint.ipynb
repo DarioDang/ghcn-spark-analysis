{
 "cells": [
  {
   "cell_type": "markdown",
   "metadata": {},
   "source": [
    "### Spark notebook ###\n",
    "\n",
    "This notebook will only work in a Jupyter session running on `mathmadslinux2p`.\n",
    "\n",
    "You can start your own Jupyter session on `mathmadslinux2p` and open this notebook in Chrome on the MADS Windows server by\n",
    "\n",
    "**Steps**\n",
    "\n",
    "1. Login to the MADS Windows server using https://mathportal.canterbury.ac.nz/.\n",
    "2. Download or copy this notebook to your home directory.\n",
    "3. Open powershell and run `ssh mathmadslinux2p`.\n",
    "4. Run `start_pyspark_notebook` or `/opt/anaconda3/bin/jupyter-notebook --ip 132.181.129.68 --port $((8000 + $((RANDOM % 999))))`.\n",
    "5. Copy / paste the url provided in the shell window into Chrome on the MADS Windows server.\n",
    "6. Open the notebook from the Jupyter root directory (which is your home directory).\n",
    "7. Run `start_spark()` to start a spark session in the notebook.\n",
    "8. Run `stop_spark()` before closing the notebook or kill your spark application by hand using the link in the Spark UI."
   ]
  },
  {
   "cell_type": "code",
   "execution_count": 1,
   "metadata": {},
   "outputs": [
    {
     "data": {
      "text/html": [
       "<style>pre { white-space: pre !important; }table.dataframe td { white-space: nowrap !important; }table.dataframe thead th:first-child, table.dataframe tbody th { display: none; }</style>"
      ],
      "text/plain": [
       "<IPython.core.display.HTML object>"
      ]
     },
     "metadata": {},
     "output_type": "display_data"
    }
   ],
   "source": [
    "# Run this cell to import pyspark and to define start_spark() and stop_spark()\n",
    "\n",
    "import findspark\n",
    "\n",
    "findspark.init()\n",
    "\n",
    "import getpass\n",
    "import pandas\n",
    "import pyspark\n",
    "import random\n",
    "import re\n",
    "\n",
    "from IPython.display import display, HTML\n",
    "from pyspark import SparkContext\n",
    "from pyspark.sql import SparkSession\n",
    "\n",
    "\n",
    "# Functions used below\n",
    "\n",
    "def username():\n",
    "    \"\"\"Get username with any domain information removed.\n",
    "    \"\"\"\n",
    "\n",
    "    return re.sub('@.*', '', getpass.getuser())\n",
    "\n",
    "\n",
    "def dict_to_html(d):\n",
    "    \"\"\"Convert a Python dictionary into a two column table for display.\n",
    "    \"\"\"\n",
    "\n",
    "    html = []\n",
    "\n",
    "    html.append(f'<table width=\"100%\" style=\"width:100%; font-family: monospace;\">')\n",
    "    for k, v in d.items():\n",
    "        html.append(f'<tr><td style=\"text-align:left;\">{k}</td><td>{v}</td></tr>')\n",
    "    html.append(f'</table>')\n",
    "\n",
    "    return ''.join(html)\n",
    "\n",
    "\n",
    "def show_as_html(df, n=20):\n",
    "    \"\"\"Leverage existing pandas jupyter integration to show a spark dataframe as html.\n",
    "    \n",
    "    Args:\n",
    "        n (int): number of rows to show (default: 20)\n",
    "    \"\"\"\n",
    "\n",
    "    display(df.limit(n).toPandas())\n",
    "\n",
    "    \n",
    "def display_spark():\n",
    "    \"\"\"Display the status of the active Spark session if one is currently running.\n",
    "    \"\"\"\n",
    "    \n",
    "    if 'spark' in globals() and 'sc' in globals():\n",
    "\n",
    "        name = sc.getConf().get(\"spark.app.name\")\n",
    "        \n",
    "        html = [\n",
    "            f'<p><b>Spark</b></p>',\n",
    "            f'<p>The spark session is <b><span style=\"color:green\">active</span></b>, look for <code>{name}</code> under the running applications section in the Spark UI.</p>',\n",
    "            f'<ul>',\n",
    "            f'<li><a href=\"http://mathmadslinux2p.canterbury.ac.nz:8080/\" target=\"_blank\">Spark UI</a></li>',\n",
    "            f'<li><a href=\"{sc.uiWebUrl}\" target=\"_blank\">Spark Application UI</a></li>',\n",
    "            f'</ul>',\n",
    "            f'<p><b>Config</b></p>',\n",
    "            dict_to_html(dict(sc.getConf().getAll())),\n",
    "            f'<p><b>Notes</b></p>',\n",
    "            f'<ul>',\n",
    "            f'<li>The spark session <code>spark</code> and spark context <code>sc</code> global variables have been defined by <code>start_spark()</code>.</li>',\n",
    "            f'<li>Please run <code>stop_spark()</code> before closing the notebook or restarting the kernel or kill <code>{name}</code> by hand using the link in the Spark UI.</li>',\n",
    "            f'</ul>',\n",
    "        ]\n",
    "        display(HTML(''.join(html)))\n",
    "        \n",
    "    else:\n",
    "        \n",
    "        html = [\n",
    "            f'<p><b>Spark</b></p>',\n",
    "            f'<p>The spark session is <b><span style=\"color:red\">stopped</span></b>, confirm that <code>{username() + \" (jupyter)\"}</code> is under the completed applications section in the Spark UI.</p>',\n",
    "            f'<ul>',\n",
    "            f'<li><a href=\"http://mathmadslinux2p.canterbury.ac.nz:8080/\" target=\"_blank\">Spark UI</a></li>',\n",
    "            f'</ul>',\n",
    "        ]\n",
    "        display(HTML(''.join(html)))\n",
    "\n",
    "\n",
    "# Functions to start and stop spark\n",
    "\n",
    "def start_spark(executor_instances=2, executor_cores=1, worker_memory=1, master_memory=1):\n",
    "    \"\"\"Start a new Spark session and define globals for SparkSession (spark) and SparkContext (sc).\n",
    "    \n",
    "    Args:\n",
    "        executor_instances (int): number of executors (default: 2)\n",
    "        executor_cores (int): number of cores per executor (default: 1)\n",
    "        worker_memory (float): worker memory (default: 1)\n",
    "        master_memory (float): master memory (default: 1)\n",
    "    \"\"\"\n",
    "\n",
    "    global spark\n",
    "    global sc\n",
    "\n",
    "    user = username()\n",
    "    \n",
    "    cores = executor_instances * executor_cores\n",
    "    partitions = cores * 4\n",
    "    port = 4000 + random.randint(1, 999)\n",
    "\n",
    "    spark = (\n",
    "        SparkSession.builder\n",
    "        .master(\"spark://masternode2:7077\")\n",
    "        .config(\"spark.driver.extraJavaOptions\", f\"-Dderby.system.home=/tmp/{user}/spark/\")\n",
    "        .config(\"spark.dynamicAllocation.enabled\", \"false\")\n",
    "        .config(\"spark.executor.instances\", str(executor_instances))\n",
    "        .config(\"spark.executor.cores\", str(executor_cores))\n",
    "        .config(\"spark.cores.max\", str(cores))\n",
    "        .config(\"spark.executor.memory\", f\"{worker_memory}g\")\n",
    "        .config(\"spark.driver.memory\", f\"{master_memory}g\")\n",
    "        .config(\"spark.driver.maxResultSize\", \"0\")\n",
    "        .config(\"spark.sql.shuffle.partitions\", str(partitions))\n",
    "        .config(\"spark.ui.port\", str(port))\n",
    "        .appName(user + \" (jupyter)\")\n",
    "        .getOrCreate()\n",
    "    )\n",
    "    sc = SparkContext.getOrCreate()\n",
    "    \n",
    "    display_spark()\n",
    "\n",
    "    \n",
    "def stop_spark():\n",
    "    \"\"\"Stop the active Spark session and delete globals for SparkSession (spark) and SparkContext (sc).\n",
    "    \"\"\"\n",
    "\n",
    "    global spark\n",
    "    global sc\n",
    "\n",
    "    if 'spark' in globals() and 'sc' in globals():\n",
    "\n",
    "        spark.stop()\n",
    "\n",
    "        del spark\n",
    "        del sc\n",
    "\n",
    "    display_spark()\n",
    "\n",
    "\n",
    "# Make css changes to improve spark output readability\n",
    "\n",
    "html = [\n",
    "    '<style>',\n",
    "    'pre { white-space: pre !important; }',\n",
    "    'table.dataframe td { white-space: nowrap !important; }',\n",
    "    'table.dataframe thead th:first-child, table.dataframe tbody th { display: none; }',\n",
    "    '</style>',\n",
    "]\n",
    "display(HTML(''.join(html)))"
   ]
  },
  {
   "cell_type": "code",
   "execution_count": 2,
   "metadata": {},
   "outputs": [
    {
     "data": {
      "text/html": [
       "<p><b>Spark</b></p><p>The spark session is <b><span style=\"color:green\">active</span></b>, look for <code>kda115 (jupyter)</code> under the running applications section in the Spark UI.</p><ul><li><a href=\"http://mathmadslinux2p.canterbury.ac.nz:8080/\" target=\"_blank\">Spark UI</a></li><li><a href=\"http://mathmadslinux2p.canterbury.ac.nz:4546\" target=\"_blank\">Spark Application UI</a></li></ul><p><b>Config</b></p><table width=\"100%\" style=\"width:100%; font-family: monospace;\"><tr><td style=\"text-align:left;\">spark.app.name</td><td>kda115 (jupyter)</td></tr><tr><td style=\"text-align:left;\">spark.app.startTime</td><td>1726276626816</td></tr><tr><td style=\"text-align:left;\">spark.executor.instances</td><td>4</td></tr><tr><td style=\"text-align:left;\">spark.dynamicAllocation.enabled</td><td>false</td></tr><tr><td style=\"text-align:left;\">spark.sql.warehouse.dir</td><td>file:/users/home/kda115/Spark/Assignment/Analysis/spark-warehouse</td></tr><tr><td style=\"text-align:left;\">spark.driver.memory</td><td>4g</td></tr><tr><td style=\"text-align:left;\">spark.executor.memory</td><td>4g</td></tr><tr><td style=\"text-align:left;\">spark.master</td><td>spark://masternode2:7077</td></tr><tr><td style=\"text-align:left;\">spark.executor.id</td><td>driver</td></tr><tr><td style=\"text-align:left;\">spark.ui.port</td><td>4546</td></tr><tr><td style=\"text-align:left;\">spark.executor.cores</td><td>2</td></tr><tr><td style=\"text-align:left;\">spark.driver.host</td><td>mathmadslinux2p.canterbury.ac.nz</td></tr><tr><td style=\"text-align:left;\">spark.sql.shuffle.partitions</td><td>32</td></tr><tr><td style=\"text-align:left;\">spark.app.id</td><td>app-20240914131707-0873</td></tr><tr><td style=\"text-align:left;\">spark.rdd.compress</td><td>True</td></tr><tr><td style=\"text-align:left;\">spark.driver.port</td><td>42767</td></tr><tr><td style=\"text-align:left;\">spark.driver.maxResultSize</td><td>0</td></tr><tr><td style=\"text-align:left;\">spark.cores.max</td><td>8</td></tr><tr><td style=\"text-align:left;\">spark.serializer.objectStreamReset</td><td>100</td></tr><tr><td style=\"text-align:left;\">spark.submit.pyFiles</td><td></td></tr><tr><td style=\"text-align:left;\">spark.submit.deployMode</td><td>client</td></tr><tr><td style=\"text-align:left;\">spark.driver.extraJavaOptions</td><td>-Dderby.system.home=/tmp/kda115/spark/</td></tr><tr><td style=\"text-align:left;\">spark.ui.showConsoleProgress</td><td>true</td></tr></table><p><b>Notes</b></p><ul><li>The spark session <code>spark</code> and spark context <code>sc</code> global variables have been defined by <code>start_spark()</code>.</li><li>Please run <code>stop_spark()</code> before closing the notebook or restarting the kernel or kill <code>kda115 (jupyter)</code> by hand using the link in the Spark UI.</li></ul>"
      ],
      "text/plain": [
       "<IPython.core.display.HTML object>"
      ]
     },
     "metadata": {},
     "output_type": "display_data"
    }
   ],
   "source": [
    "# Run this cell to start a spark session in this notebook\n",
    "\n",
    "start_spark(executor_instances=4, executor_cores=2, worker_memory=4, master_memory=4)"
   ]
  },
  {
   "cell_type": "code",
   "execution_count": 3,
   "metadata": {},
   "outputs": [],
   "source": [
    "# Import the pyspark API to defined data types\n",
    "from pyspark.sql import functions as F\n",
    "from pyspark.sql.types import *\n",
    "from pyspark.sql import Row"
   ]
  },
  {
   "cell_type": "markdown",
   "metadata": {},
   "source": [
    "## Question 01 "
   ]
  },
  {
   "cell_type": "markdown",
   "metadata": {},
   "source": [
    "### A. How many stations are there in total? How many stations were active so far in 2024? "
   ]
  },
  {
   "cell_type": "code",
   "execution_count": 4,
   "metadata": {},
   "outputs": [
    {
     "name": "stdout",
     "output_type": "stream",
     "text": [
      "root\n",
      " |-- Station_ID: string (nullable = true)\n",
      " |-- Latitude: double (nullable = true)\n",
      " |-- Longitude: double (nullable = true)\n",
      " |-- Elevation: double (nullable = true)\n",
      " |-- Station_Name: string (nullable = true)\n",
      " |-- GSN_Flag: string (nullable = true)\n",
      " |-- HCN_CRN_Flag: string (nullable = true)\n",
      " |-- WMO_ID: string (nullable = true)\n",
      " |-- COUNTRY_CODE: string (nullable = true)\n",
      " |-- Country_Name: string (nullable = true)\n",
      " |-- State_Code: string (nullable = true)\n",
      " |-- State_Name: string (nullable = true)\n",
      " |-- First_Year: integer (nullable = true)\n",
      " |-- Last_Year: integer (nullable = true)\n",
      " |-- Total_Years_Active: integer (nullable = true)\n",
      " |-- Total_Unique_Elements: long (nullable = true)\n",
      " |-- Core_Element_Count: integer (nullable = true)\n",
      " |-- Other_Element_Count: integer (nullable = true)\n",
      "\n"
     ]
    },
    {
     "data": {
      "text/html": [
       "<div>\n",
       "<style scoped>\n",
       "    .dataframe tbody tr th:only-of-type {\n",
       "        vertical-align: middle;\n",
       "    }\n",
       "\n",
       "    .dataframe tbody tr th {\n",
       "        vertical-align: top;\n",
       "    }\n",
       "\n",
       "    .dataframe thead th {\n",
       "        text-align: right;\n",
       "    }\n",
       "</style>\n",
       "<table border=\"1\" class=\"dataframe\">\n",
       "  <thead>\n",
       "    <tr style=\"text-align: right;\">\n",
       "      <th></th>\n",
       "      <th>Station_ID</th>\n",
       "      <th>Latitude</th>\n",
       "      <th>Longitude</th>\n",
       "      <th>Elevation</th>\n",
       "      <th>Station_Name</th>\n",
       "      <th>GSN_Flag</th>\n",
       "      <th>HCN_CRN_Flag</th>\n",
       "      <th>WMO_ID</th>\n",
       "      <th>COUNTRY_CODE</th>\n",
       "      <th>Country_Name</th>\n",
       "      <th>State_Code</th>\n",
       "      <th>State_Name</th>\n",
       "      <th>First_Year</th>\n",
       "      <th>Last_Year</th>\n",
       "      <th>Total_Years_Active</th>\n",
       "      <th>Total_Unique_Elements</th>\n",
       "      <th>Core_Element_Count</th>\n",
       "      <th>Other_Element_Count</th>\n",
       "    </tr>\n",
       "  </thead>\n",
       "  <tbody>\n",
       "    <tr>\n",
       "      <th>0</th>\n",
       "      <td>AFM00040990</td>\n",
       "      <td>31.500</td>\n",
       "      <td>65.850</td>\n",
       "      <td>1010.0</td>\n",
       "      <td>KANDAHAR AIRPORT</td>\n",
       "      <td></td>\n",
       "      <td></td>\n",
       "      <td>40990</td>\n",
       "      <td>AF</td>\n",
       "      <td>Afghanistan</td>\n",
       "      <td>None</td>\n",
       "      <td>None</td>\n",
       "      <td>1973</td>\n",
       "      <td>2020</td>\n",
       "      <td>48</td>\n",
       "      <td>5</td>\n",
       "      <td>4</td>\n",
       "      <td>1</td>\n",
       "    </tr>\n",
       "    <tr>\n",
       "      <th>1</th>\n",
       "      <td>AGE00147718</td>\n",
       "      <td>34.850</td>\n",
       "      <td>5.720</td>\n",
       "      <td>125.0</td>\n",
       "      <td>BISKRA</td>\n",
       "      <td></td>\n",
       "      <td></td>\n",
       "      <td>60525</td>\n",
       "      <td>AG</td>\n",
       "      <td>Algeria</td>\n",
       "      <td>None</td>\n",
       "      <td>None</td>\n",
       "      <td>1880</td>\n",
       "      <td>2024</td>\n",
       "      <td>145</td>\n",
       "      <td>4</td>\n",
       "      <td>3</td>\n",
       "      <td>1</td>\n",
       "    </tr>\n",
       "    <tr>\n",
       "      <th>2</th>\n",
       "      <td>AGM00060417</td>\n",
       "      <td>36.383</td>\n",
       "      <td>3.883</td>\n",
       "      <td>560.0</td>\n",
       "      <td>BOUIRA</td>\n",
       "      <td></td>\n",
       "      <td></td>\n",
       "      <td>60417</td>\n",
       "      <td>AG</td>\n",
       "      <td>Algeria</td>\n",
       "      <td>None</td>\n",
       "      <td>None</td>\n",
       "      <td>1995</td>\n",
       "      <td>2024</td>\n",
       "      <td>30</td>\n",
       "      <td>5</td>\n",
       "      <td>4</td>\n",
       "      <td>1</td>\n",
       "    </tr>\n",
       "    <tr>\n",
       "      <th>3</th>\n",
       "      <td>AGM00060421</td>\n",
       "      <td>35.867</td>\n",
       "      <td>7.117</td>\n",
       "      <td>891.0</td>\n",
       "      <td>OUM EL BOUAGHI</td>\n",
       "      <td></td>\n",
       "      <td></td>\n",
       "      <td>60421</td>\n",
       "      <td>AG</td>\n",
       "      <td>Algeria</td>\n",
       "      <td>None</td>\n",
       "      <td>None</td>\n",
       "      <td>1985</td>\n",
       "      <td>2024</td>\n",
       "      <td>40</td>\n",
       "      <td>5</td>\n",
       "      <td>4</td>\n",
       "      <td>1</td>\n",
       "    </tr>\n",
       "    <tr>\n",
       "      <th>4</th>\n",
       "      <td>AGM00060531</td>\n",
       "      <td>35.017</td>\n",
       "      <td>-1.450</td>\n",
       "      <td>248.1</td>\n",
       "      <td>ZENATA</td>\n",
       "      <td></td>\n",
       "      <td></td>\n",
       "      <td>60531</td>\n",
       "      <td>AG</td>\n",
       "      <td>Algeria</td>\n",
       "      <td>None</td>\n",
       "      <td>None</td>\n",
       "      <td>1981</td>\n",
       "      <td>2024</td>\n",
       "      <td>44</td>\n",
       "      <td>5</td>\n",
       "      <td>4</td>\n",
       "      <td>1</td>\n",
       "    </tr>\n",
       "    <tr>\n",
       "      <th>5</th>\n",
       "      <td>AJ000037895</td>\n",
       "      <td>39.983</td>\n",
       "      <td>46.750</td>\n",
       "      <td>828.0</td>\n",
       "      <td>KHANKANDY</td>\n",
       "      <td></td>\n",
       "      <td></td>\n",
       "      <td>37895</td>\n",
       "      <td>AJ</td>\n",
       "      <td>Azerbaijan</td>\n",
       "      <td>None</td>\n",
       "      <td>None</td>\n",
       "      <td>1936</td>\n",
       "      <td>1991</td>\n",
       "      <td>56</td>\n",
       "      <td>5</td>\n",
       "      <td>4</td>\n",
       "      <td>1</td>\n",
       "    </tr>\n",
       "    <tr>\n",
       "      <th>6</th>\n",
       "      <td>AM000037782</td>\n",
       "      <td>40.400</td>\n",
       "      <td>44.300</td>\n",
       "      <td>1893.0</td>\n",
       "      <td>AMBERD (KOSHABULAKH)</td>\n",
       "      <td></td>\n",
       "      <td></td>\n",
       "      <td>37782</td>\n",
       "      <td>AM</td>\n",
       "      <td>Armenia</td>\n",
       "      <td>None</td>\n",
       "      <td>None</td>\n",
       "      <td>1919</td>\n",
       "      <td>1992</td>\n",
       "      <td>74</td>\n",
       "      <td>1</td>\n",
       "      <td>1</td>\n",
       "      <td>0</td>\n",
       "    </tr>\n",
       "    <tr>\n",
       "      <th>7</th>\n",
       "      <td>AM000037791</td>\n",
       "      <td>40.400</td>\n",
       "      <td>44.683</td>\n",
       "      <td>1800.0</td>\n",
       "      <td>FANTAN</td>\n",
       "      <td></td>\n",
       "      <td></td>\n",
       "      <td>37791</td>\n",
       "      <td>AM</td>\n",
       "      <td>Armenia</td>\n",
       "      <td>None</td>\n",
       "      <td>None</td>\n",
       "      <td>1936</td>\n",
       "      <td>1992</td>\n",
       "      <td>57</td>\n",
       "      <td>5</td>\n",
       "      <td>4</td>\n",
       "      <td>1</td>\n",
       "    </tr>\n",
       "    <tr>\n",
       "      <th>8</th>\n",
       "      <td>AO000066447</td>\n",
       "      <td>-15.833</td>\n",
       "      <td>20.350</td>\n",
       "      <td>1088.0</td>\n",
       "      <td>MAVINGA</td>\n",
       "      <td>GSN</td>\n",
       "      <td></td>\n",
       "      <td>66447</td>\n",
       "      <td>AO</td>\n",
       "      <td>Angola</td>\n",
       "      <td>None</td>\n",
       "      <td>None</td>\n",
       "      <td>1957</td>\n",
       "      <td>1975</td>\n",
       "      <td>19</td>\n",
       "      <td>4</td>\n",
       "      <td>3</td>\n",
       "      <td>1</td>\n",
       "    </tr>\n",
       "    <tr>\n",
       "      <th>9</th>\n",
       "      <td>AR000087828</td>\n",
       "      <td>-43.200</td>\n",
       "      <td>-65.266</td>\n",
       "      <td>43.0</td>\n",
       "      <td>TRELEW AERO</td>\n",
       "      <td>GSN</td>\n",
       "      <td></td>\n",
       "      <td>87828</td>\n",
       "      <td>AR</td>\n",
       "      <td>Argentina</td>\n",
       "      <td>None</td>\n",
       "      <td>None</td>\n",
       "      <td>1956</td>\n",
       "      <td>2024</td>\n",
       "      <td>69</td>\n",
       "      <td>5</td>\n",
       "      <td>4</td>\n",
       "      <td>1</td>\n",
       "    </tr>\n",
       "  </tbody>\n",
       "</table>\n",
       "</div>"
      ],
      "text/plain": [
       "    Station_ID  Latitude  Longitude  Elevation          Station_Name GSN_Flag  \\\n",
       "0  AFM00040990    31.500     65.850     1010.0      KANDAHAR AIRPORT            \n",
       "1  AGE00147718    34.850      5.720      125.0                BISKRA            \n",
       "2  AGM00060417    36.383      3.883      560.0                BOUIRA            \n",
       "3  AGM00060421    35.867      7.117      891.0        OUM EL BOUAGHI            \n",
       "4  AGM00060531    35.017     -1.450      248.1                ZENATA            \n",
       "5  AJ000037895    39.983     46.750      828.0             KHANKANDY            \n",
       "6  AM000037782    40.400     44.300     1893.0  AMBERD (KOSHABULAKH)            \n",
       "7  AM000037791    40.400     44.683     1800.0                FANTAN            \n",
       "8  AO000066447   -15.833     20.350     1088.0               MAVINGA      GSN   \n",
       "9  AR000087828   -43.200    -65.266       43.0           TRELEW AERO      GSN   \n",
       "\n",
       "  HCN_CRN_Flag WMO_ID COUNTRY_CODE Country_Name State_Code State_Name  \\\n",
       "0               40990           AF  Afghanistan       None       None   \n",
       "1               60525           AG      Algeria       None       None   \n",
       "2               60417           AG      Algeria       None       None   \n",
       "3               60421           AG      Algeria       None       None   \n",
       "4               60531           AG      Algeria       None       None   \n",
       "5               37895           AJ   Azerbaijan       None       None   \n",
       "6               37782           AM      Armenia       None       None   \n",
       "7               37791           AM      Armenia       None       None   \n",
       "8               66447           AO       Angola       None       None   \n",
       "9               87828           AR    Argentina       None       None   \n",
       "\n",
       "   First_Year  Last_Year  Total_Years_Active  Total_Unique_Elements  \\\n",
       "0        1973       2020                  48                      5   \n",
       "1        1880       2024                 145                      4   \n",
       "2        1995       2024                  30                      5   \n",
       "3        1985       2024                  40                      5   \n",
       "4        1981       2024                  44                      5   \n",
       "5        1936       1991                  56                      5   \n",
       "6        1919       1992                  74                      1   \n",
       "7        1936       1992                  57                      5   \n",
       "8        1957       1975                  19                      4   \n",
       "9        1956       2024                  69                      5   \n",
       "\n",
       "   Core_Element_Count  Other_Element_Count  \n",
       "0                   4                    1  \n",
       "1                   3                    1  \n",
       "2                   4                    1  \n",
       "3                   4                    1  \n",
       "4                   4                    1  \n",
       "5                   4                    1  \n",
       "6                   1                    0  \n",
       "7                   4                    1  \n",
       "8                   3                    1  \n",
       "9                   4                    1  "
      ]
     },
     "metadata": {},
     "output_type": "display_data"
    }
   ],
   "source": [
    "# Load the enriched_stations parquet file stored in HDFS \n",
    "# Load the Parquet data from HDFS\n",
    "stations = spark.read.parquet('hdfs:///user/kda115/ghcnd/result/enriched_stations.parquet')\n",
    "\n",
    "# Show the station dataset \n",
    "stations.printSchema()\n",
    "show_as_html(stations, 10)"
   ]
  },
  {
   "cell_type": "markdown",
   "metadata": {},
   "source": [
    "#### A.1 How many stations are in total?"
   ]
  },
  {
   "cell_type": "code",
   "execution_count": 5,
   "metadata": {},
   "outputs": [
    {
     "name": "stdout",
     "output_type": "stream",
     "text": [
      "The total number of stations: 127994\n"
     ]
    }
   ],
   "source": [
    "# Count the tootal number of stations \n",
    "total_stations = stations.count()\n",
    "\n",
    "# Display the total number of stations \n",
    "print(f\"The total number of stations: {total_stations}\")"
   ]
  },
  {
   "cell_type": "markdown",
   "metadata": {},
   "source": [
    "#### A.2 How many stations were active so far in 2024?"
   ]
  },
  {
   "cell_type": "code",
   "execution_count": 6,
   "metadata": {},
   "outputs": [
    {
     "name": "stdout",
     "output_type": "stream",
     "text": [
      "Total number of active stations in 2024: 36516\n"
     ]
    }
   ],
   "source": [
    "# Filter the stations where Last_Year is 2024\n",
    "active_stations_2024 = stations.filter(stations[\"Last_Year\"] == 2024)\n",
    "\n",
    "# Count the total number of active stations in 2024\n",
    "total_active_stations_2024 = active_stations_2024.count()\n",
    "\n",
    "# Print out the result \n",
    "print(f\"Total number of active stations in 2024: {total_active_stations_2024}\")"
   ]
  },
  {
   "cell_type": "markdown",
   "metadata": {},
   "source": [
    "#### A.3 How many stations are in each of the  GSN, HCN, CRN?"
   ]
  },
  {
   "cell_type": "markdown",
   "metadata": {},
   "source": [
    "To find out how many stations are in each of the GCOS Surface Network (GSN), we can group the data by the GSN_Flag column and count the number of stations for each flag."
   ]
  },
  {
   "cell_type": "code",
   "execution_count": 7,
   "metadata": {},
   "outputs": [],
   "source": [
    "# Filter only GSN stations and count\n",
    "gsn_stations_count = stations.filter(F.col(\"GSN_Flag\") == 'GSN').count()\n",
    "\n",
    "# Filter only HCN stations and count\n",
    "hcn_stations_count = stations.filter(F.col(\"HCN_CRN_Flag\") == 'HCN').count()\n",
    "\n",
    "# Filter only CRN stations and count\n",
    "crn_stations_count = stations.filter(F.col(\"HCN_CRN_Flag\") == 'CRN').count()"
   ]
  },
  {
   "cell_type": "code",
   "execution_count": 8,
   "metadata": {},
   "outputs": [
    {
     "data": {
      "text/html": [
       "<div>\n",
       "<style scoped>\n",
       "    .dataframe tbody tr th:only-of-type {\n",
       "        vertical-align: middle;\n",
       "    }\n",
       "\n",
       "    .dataframe tbody tr th {\n",
       "        vertical-align: top;\n",
       "    }\n",
       "\n",
       "    .dataframe thead th {\n",
       "        text-align: right;\n",
       "    }\n",
       "</style>\n",
       "<table border=\"1\" class=\"dataframe\">\n",
       "  <thead>\n",
       "    <tr style=\"text-align: right;\">\n",
       "      <th></th>\n",
       "      <th>Networks</th>\n",
       "      <th>Stations_Count</th>\n",
       "    </tr>\n",
       "  </thead>\n",
       "  <tbody>\n",
       "    <tr>\n",
       "      <th>0</th>\n",
       "      <td>GSN</td>\n",
       "      <td>991</td>\n",
       "    </tr>\n",
       "    <tr>\n",
       "      <th>1</th>\n",
       "      <td>HCN</td>\n",
       "      <td>1218</td>\n",
       "    </tr>\n",
       "    <tr>\n",
       "      <th>2</th>\n",
       "      <td>CRN</td>\n",
       "      <td>234</td>\n",
       "    </tr>\n",
       "  </tbody>\n",
       "</table>\n",
       "</div>"
      ],
      "text/plain": [
       "  Networks  Stations_Count\n",
       "0      GSN             991\n",
       "1      HCN            1218\n",
       "2      CRN             234"
      ]
     },
     "metadata": {},
     "output_type": "display_data"
    }
   ],
   "source": [
    "# Create a list of Rows with the counts\n",
    "result = [\n",
    "        Row(Networks='GSN', Stations_Count=gsn_stations_count),\n",
    "        Row(Networks='HCN', Stations_Count=hcn_stations_count),\n",
    "        Row(Networks='CRN', Stations_Count=crn_stations_count)\n",
    "]\n",
    "\n",
    "# Create a DataFrame from the result\n",
    "stations_network = spark.createDataFrame(result)\n",
    "\n",
    "# Show the result \n",
    "show_as_html(stations_network)"
   ]
  },
  {
   "cell_type": "markdown",
   "metadata": {},
   "source": [
    "#### A.4 Are there any stations that are in more than one of these networks?"
   ]
  },
  {
   "cell_type": "markdown",
   "metadata": {},
   "source": [
    "To check if there are any stations that belong to more than one of the networks (GSN, HCN, CRN):\n",
    "1. Filter the stations to find stations that have a \"GSN_Flag\" where equal to GSN\n",
    "2. Have an \"HCN_CRN_Flag\" equal to either \"HCN\" or \"CRN\""
   ]
  },
  {
   "cell_type": "code",
   "execution_count": 9,
   "metadata": {},
   "outputs": [
    {
     "name": "stdout",
     "output_type": "stream",
     "text": [
      "Number of stations in more than one network: 15 stations\n"
     ]
    }
   ],
   "source": [
    "# Filter the stations to find stations that have a \"GSN_Flag\" where equal to GSN,  \"HCN_CRN_Flag\" equal to either \"HCN\" or \"CRN\"\n",
    "\n",
    "stations_in_multiple_networks = (stations.filter(\n",
    "    (F.col('GSN_Flag') == 'GSN') &\n",
    "    ((F.col('HCN_CRN_Flag') == 'HCN') | (F.col('HCN_CRN_Flag') == 'CRN')))\n",
    ")\n",
    "\n",
    "# Count the number of such stations\n",
    "stations_in_multiple_networks_count = stations_in_multiple_networks.count()\n",
    "\n",
    "# Display the result\n",
    "print(f\"Number of stations in more than one network: {stations_in_multiple_networks_count} stations\")"
   ]
  },
  {
   "cell_type": "markdown",
   "metadata": {},
   "source": [
    "### B. How many stations are there in the Southern Hemisphere?"
   ]
  },
  {
   "cell_type": "markdown",
   "metadata": {},
   "source": [
    "To find out how many stations are located in the Southern Hemisphere, we can filter the dataframe based on the latitude of the stations. According to Community Cordinated Center, Southern Hemisphere will have a negative latitude. Therefore, we can filter stations that have the negative lattitude."
   ]
  },
  {
   "cell_type": "code",
   "execution_count": 10,
   "metadata": {},
   "outputs": [
    {
     "name": "stdout",
     "output_type": "stream",
     "text": [
      "Number of stations in the Southern Hemisphere: 25357\n"
     ]
    }
   ],
   "source": [
    "# Filter stations located in the Southern Hemisphere (latitude < 0)\n",
    "southern_hemisphere_stations = stations.filter(F.col(\"Latitude\") < 0)\n",
    "\n",
    "# Count the number of such stations\n",
    "southern_hemisphere_stations_count = southern_hemisphere_stations.count()\n",
    "\n",
    "# Display the result\n",
    "print(f\"Number of stations in the Southern Hemisphere: {southern_hemisphere_stations_count}\")"
   ]
  },
  {
   "cell_type": "markdown",
   "metadata": {},
   "source": [
    "#### B.1 How many stations are there in total in the territories of the United States around the world."
   ]
  },
  {
   "cell_type": "markdown",
   "metadata": {},
   "source": [
    "Filter the stations dataframe to include only rows where the Country_Name contains 'United States' but the Country_Code is not 'US' (which excludes the mainland United States)"
   ]
  },
  {
   "cell_type": "code",
   "execution_count": 11,
   "metadata": {},
   "outputs": [
    {
     "name": "stdout",
     "output_type": "stream",
     "text": [
      "Number of stations in U.S. territories (excluding the U.S. itself): 399\n"
     ]
    }
   ],
   "source": [
    "# Filter the DataFrame to include only rows where the Country_Name contains 'United States' \n",
    "US_Territories_Stations = stations.filter(\n",
    "    F.col('Country_Name').contains('United States')\n",
    ").filter(\n",
    "    F.col('COUNTRY_CODE') != 'US'\n",
    ")\n",
    "\n",
    "# Count the number of stations in these territories\n",
    "Num_Stations_US_Territories = US_Territories_Stations.count()\n",
    "\n",
    "print(f\"Number of stations in U.S. territories (excluding the U.S. itself): {Num_Stations_US_Territories}\")"
   ]
  },
  {
   "cell_type": "code",
   "execution_count": 15,
   "metadata": {},
   "outputs": [
    {
     "data": {
      "text/html": [
       "<div>\n",
       "<style scoped>\n",
       "    .dataframe tbody tr th:only-of-type {\n",
       "        vertical-align: middle;\n",
       "    }\n",
       "\n",
       "    .dataframe tbody tr th {\n",
       "        vertical-align: top;\n",
       "    }\n",
       "\n",
       "    .dataframe thead th {\n",
       "        text-align: right;\n",
       "    }\n",
       "</style>\n",
       "<table border=\"1\" class=\"dataframe\">\n",
       "  <thead>\n",
       "    <tr style=\"text-align: right;\">\n",
       "      <th></th>\n",
       "      <th>Country_Name</th>\n",
       "      <th>Station_Count</th>\n",
       "    </tr>\n",
       "  </thead>\n",
       "  <tbody>\n",
       "    <tr>\n",
       "      <th>0</th>\n",
       "      <td>Northern Mariana Islands [United States]</td>\n",
       "      <td>11</td>\n",
       "    </tr>\n",
       "    <tr>\n",
       "      <th>1</th>\n",
       "      <td>Virgin Islands [United States]</td>\n",
       "      <td>74</td>\n",
       "    </tr>\n",
       "    <tr>\n",
       "      <th>2</th>\n",
       "      <td>Palmyra Atoll [United States]</td>\n",
       "      <td>3</td>\n",
       "    </tr>\n",
       "    <tr>\n",
       "      <th>3</th>\n",
       "      <td>Midway Islands [United States}</td>\n",
       "      <td>3</td>\n",
       "    </tr>\n",
       "    <tr>\n",
       "      <th>4</th>\n",
       "      <td>Guam [United States]</td>\n",
       "      <td>29</td>\n",
       "    </tr>\n",
       "    <tr>\n",
       "      <th>5</th>\n",
       "      <td>Puerto Rico [United States]</td>\n",
       "      <td>253</td>\n",
       "    </tr>\n",
       "    <tr>\n",
       "      <th>6</th>\n",
       "      <td>American Samoa [United States]</td>\n",
       "      <td>21</td>\n",
       "    </tr>\n",
       "    <tr>\n",
       "      <th>7</th>\n",
       "      <td>Wake Island [United States]</td>\n",
       "      <td>1</td>\n",
       "    </tr>\n",
       "    <tr>\n",
       "      <th>8</th>\n",
       "      <td>Johnston Atoll [United States]</td>\n",
       "      <td>4</td>\n",
       "    </tr>\n",
       "  </tbody>\n",
       "</table>\n",
       "</div>"
      ],
      "text/plain": [
       "                               Country_Name  Station_Count\n",
       "0  Northern Mariana Islands [United States]             11\n",
       "1            Virgin Islands [United States]             74\n",
       "2             Palmyra Atoll [United States]              3\n",
       "3            Midway Islands [United States}              3\n",
       "4                      Guam [United States]             29\n",
       "5               Puerto Rico [United States]            253\n",
       "6            American Samoa [United States]             21\n",
       "7               Wake Island [United States]              1\n",
       "8            Johnston Atoll [United States]              4"
      ]
     },
     "metadata": {},
     "output_type": "display_data"
    }
   ],
   "source": [
    "# Group by Country_Name and count the number of stations in each US Territories by Country \n",
    "stations_by_territories_US = US_Territories_Stations.groupBy(\"Country_Name\").agg(F.count(\"Station_Name\").alias(\"Station_Count\"))\n",
    "\n",
    "# Show the result\n",
    "show_as_html(stations_by_territories_US)"
   ]
  },
  {
   "cell_type": "code",
   "execution_count": 18,
   "metadata": {},
   "outputs": [],
   "source": [
    "# Convert the result to Pandas DataFrame for easier plotting\n",
    "stations_by_country = stations_by_territories_US.toPandas()"
   ]
  },
  {
   "cell_type": "code",
   "execution_count": 26,
   "metadata": {},
   "outputs": [
    {
     "data": {
      "text/html": [
       "<div>\n",
       "<style scoped>\n",
       "    .dataframe tbody tr th:only-of-type {\n",
       "        vertical-align: middle;\n",
       "    }\n",
       "\n",
       "    .dataframe tbody tr th {\n",
       "        vertical-align: top;\n",
       "    }\n",
       "\n",
       "    .dataframe thead th {\n",
       "        text-align: right;\n",
       "    }\n",
       "</style>\n",
       "<table border=\"1\" class=\"dataframe\">\n",
       "  <thead>\n",
       "    <tr style=\"text-align: right;\">\n",
       "      <th></th>\n",
       "      <th>Country_Name</th>\n",
       "      <th>Station_Count</th>\n",
       "    </tr>\n",
       "  </thead>\n",
       "  <tbody>\n",
       "    <tr>\n",
       "      <th>7</th>\n",
       "      <td>Wake Island [United States]</td>\n",
       "      <td>1</td>\n",
       "    </tr>\n",
       "    <tr>\n",
       "      <th>2</th>\n",
       "      <td>Palmyra Atoll [United States]</td>\n",
       "      <td>3</td>\n",
       "    </tr>\n",
       "    <tr>\n",
       "      <th>3</th>\n",
       "      <td>Midway Islands [United States}</td>\n",
       "      <td>3</td>\n",
       "    </tr>\n",
       "    <tr>\n",
       "      <th>8</th>\n",
       "      <td>Johnston Atoll [United States]</td>\n",
       "      <td>4</td>\n",
       "    </tr>\n",
       "    <tr>\n",
       "      <th>0</th>\n",
       "      <td>Northern Mariana Islands [United States]</td>\n",
       "      <td>11</td>\n",
       "    </tr>\n",
       "    <tr>\n",
       "      <th>6</th>\n",
       "      <td>American Samoa [United States]</td>\n",
       "      <td>21</td>\n",
       "    </tr>\n",
       "    <tr>\n",
       "      <th>4</th>\n",
       "      <td>Guam [United States]</td>\n",
       "      <td>29</td>\n",
       "    </tr>\n",
       "    <tr>\n",
       "      <th>1</th>\n",
       "      <td>Virgin Islands [United States]</td>\n",
       "      <td>74</td>\n",
       "    </tr>\n",
       "    <tr>\n",
       "      <th>5</th>\n",
       "      <td>Puerto Rico [United States]</td>\n",
       "      <td>253</td>\n",
       "    </tr>\n",
       "  </tbody>\n",
       "</table>\n",
       "</div>"
      ],
      "text/plain": [
       "                               Country_Name  Station_Count\n",
       "7               Wake Island [United States]              1\n",
       "2             Palmyra Atoll [United States]              3\n",
       "3            Midway Islands [United States}              3\n",
       "8            Johnston Atoll [United States]              4\n",
       "0  Northern Mariana Islands [United States]             11\n",
       "6            American Samoa [United States]             21\n",
       "4                      Guam [United States]             29\n",
       "1            Virgin Islands [United States]             74\n",
       "5               Puerto Rico [United States]            253"
      ]
     },
     "execution_count": 26,
     "metadata": {},
     "output_type": "execute_result"
    }
   ],
   "source": [
    "# Sort the DataFrame by Station_Count in descending order\n",
    "stations_by_country = stations_by_country.sort_values(by='Station_Count', ascending=True)\n",
    "\n",
    "# show the result \n",
    "stations_by_country"
   ]
  },
  {
   "cell_type": "code",
   "execution_count": 34,
   "metadata": {},
   "outputs": [
    {
     "data": {
      "image/png": "[encoded data removed]",
      "text/plain": [
       "<Figure size 720x432 with 1 Axes>"
      ]
     },
     "metadata": {
      "needs_background": "light"
     },
     "output_type": "display_data"
    }
   ],
   "source": [
    "import matplotlib.pyplot as plt\n",
    "import pandas as pd\n",
    "\n",
    "# Plotting the number of stations in US Territories by Country\n",
    "plt.figure(figsize=(10, 6))\n",
    "plt.barh(stations_by_country['Country_Name'], stations_by_country['Station_Count'], color='skyblue')\n",
    "plt.xlabel('Number of stations')\n",
    "plt.ylabel('Country Name')\n",
    "plt.title('Number of Stations in US Territories by Country')\n",
    "plt.xticks(rotation=45)\n",
    "#plt.savefig('Number of Stations_US_Territories.png', dpi=300, bbox_inches='tight')\n",
    "plt.show()"
   ]
  },
  {
   "cell_type": "markdown",
   "metadata": {},
   "source": [
    "### C. Count the total number of stations in each country and join these counts onto countries "
   ]
  },
  {
   "cell_type": "code",
   "execution_count": 5,
   "metadata": {},
   "outputs": [
    {
     "data": {
      "text/html": [
       "<div>\n",
       "<style scoped>\n",
       "    .dataframe tbody tr th:only-of-type {\n",
       "        vertical-align: middle;\n",
       "    }\n",
       "\n",
       "    .dataframe tbody tr th {\n",
       "        vertical-align: top;\n",
       "    }\n",
       "\n",
       "    .dataframe thead th {\n",
       "        text-align: right;\n",
       "    }\n",
       "</style>\n",
       "<table border=\"1\" class=\"dataframe\">\n",
       "  <thead>\n",
       "    <tr style=\"text-align: right;\">\n",
       "      <th></th>\n",
       "      <th>Country_Code</th>\n",
       "      <th>Number_of_Stations</th>\n",
       "    </tr>\n",
       "  </thead>\n",
       "  <tbody>\n",
       "    <tr>\n",
       "      <th>0</th>\n",
       "      <td>US</td>\n",
       "      <td>74243</td>\n",
       "    </tr>\n",
       "    <tr>\n",
       "      <th>1</th>\n",
       "      <td>AS</td>\n",
       "      <td>17088</td>\n",
       "    </tr>\n",
       "    <tr>\n",
       "      <th>2</th>\n",
       "      <td>CA</td>\n",
       "      <td>9226</td>\n",
       "    </tr>\n",
       "    <tr>\n",
       "      <th>3</th>\n",
       "      <td>BR</td>\n",
       "      <td>5989</td>\n",
       "    </tr>\n",
       "    <tr>\n",
       "      <th>4</th>\n",
       "      <td>MX</td>\n",
       "      <td>5249</td>\n",
       "    </tr>\n",
       "    <tr>\n",
       "      <th>5</th>\n",
       "      <td>IN</td>\n",
       "      <td>3807</td>\n",
       "    </tr>\n",
       "    <tr>\n",
       "      <th>6</th>\n",
       "      <td>SW</td>\n",
       "      <td>1721</td>\n",
       "    </tr>\n",
       "    <tr>\n",
       "      <th>7</th>\n",
       "      <td>SF</td>\n",
       "      <td>1166</td>\n",
       "    </tr>\n",
       "    <tr>\n",
       "      <th>8</th>\n",
       "      <td>GM</td>\n",
       "      <td>1123</td>\n",
       "    </tr>\n",
       "    <tr>\n",
       "      <th>9</th>\n",
       "      <td>RS</td>\n",
       "      <td>1123</td>\n",
       "    </tr>\n",
       "  </tbody>\n",
       "</table>\n",
       "</div>"
      ],
      "text/plain": [
       "  Country_Code  Number_of_Stations\n",
       "0           US               74243\n",
       "1           AS               17088\n",
       "2           CA                9226\n",
       "3           BR                5989\n",
       "4           MX                5249\n",
       "5           IN                3807\n",
       "6           SW                1721\n",
       "7           SF                1166\n",
       "8           GM                1123\n",
       "9           RS                1123"
      ]
     },
     "metadata": {},
     "output_type": "display_data"
    }
   ],
   "source": [
    "# Group by Country_Name and count the number of stations in each country\n",
    "stations_each_country = (stations.\n",
    "                         groupBy(F.col('Country_Code')).\n",
    "                         agg(F.count('Station_ID').alias('Number_of_Stations'))\n",
    ")\n",
    "\n",
    "# Show the result in desc \n",
    "show_as_html(stations_each_country.sort('Number_of_Stations', ascending = False),10)"
   ]
  },
  {
   "cell_type": "code",
   "execution_count": 6,
   "metadata": {},
   "outputs": [
    {
     "data": {
      "text/html": [
       "<div>\n",
       "<style scoped>\n",
       "    .dataframe tbody tr th:only-of-type {\n",
       "        vertical-align: middle;\n",
       "    }\n",
       "\n",
       "    .dataframe tbody tr th {\n",
       "        vertical-align: top;\n",
       "    }\n",
       "\n",
       "    .dataframe thead th {\n",
       "        text-align: right;\n",
       "    }\n",
       "</style>\n",
       "<table border=\"1\" class=\"dataframe\">\n",
       "  <thead>\n",
       "    <tr style=\"text-align: right;\">\n",
       "      <th></th>\n",
       "      <th>Country_Code</th>\n",
       "      <th>Country_Name</th>\n",
       "      <th>Number_of_Stations</th>\n",
       "    </tr>\n",
       "  </thead>\n",
       "  <tbody>\n",
       "    <tr>\n",
       "      <th>0</th>\n",
       "      <td>US</td>\n",
       "      <td>United States</td>\n",
       "      <td>74243</td>\n",
       "    </tr>\n",
       "    <tr>\n",
       "      <th>1</th>\n",
       "      <td>AS</td>\n",
       "      <td>Australia</td>\n",
       "      <td>17088</td>\n",
       "    </tr>\n",
       "    <tr>\n",
       "      <th>2</th>\n",
       "      <td>CA</td>\n",
       "      <td>Canada</td>\n",
       "      <td>9226</td>\n",
       "    </tr>\n",
       "    <tr>\n",
       "      <th>3</th>\n",
       "      <td>BR</td>\n",
       "      <td>Brazil</td>\n",
       "      <td>5989</td>\n",
       "    </tr>\n",
       "    <tr>\n",
       "      <th>4</th>\n",
       "      <td>MX</td>\n",
       "      <td>Mexico</td>\n",
       "      <td>5249</td>\n",
       "    </tr>\n",
       "  </tbody>\n",
       "</table>\n",
       "</div>"
      ],
      "text/plain": [
       "  Country_Code   Country_Name  Number_of_Stations\n",
       "0           US  United States               74243\n",
       "1           AS      Australia               17088\n",
       "2           CA         Canada                9226\n",
       "3           BR         Brazil                5989\n",
       "4           MX         Mexico                5249"
      ]
     },
     "metadata": {},
     "output_type": "display_data"
    }
   ],
   "source": [
    "# Read the countries data \n",
    "countries_raw = spark.read.text(\"hdfs:///data/ghcnd/ghcnd-countries.txt\")\n",
    "countries = countries_raw.select(\n",
    "    F.trim(F.substring(countries_raw.value, 1, 2)).alias(\"Country_Code\"),\n",
    "    F.trim(F.substring(countries_raw.value, 4, 61)).alias(\"Country_Name\")\n",
    ")\n",
    "\n",
    "#  Join the stations by each country onto countries table \n",
    "countries_new = countries.join(stations_each_country, \"Country_Code\", how = \"left\")\n",
    "\n",
    "# Show the result \n",
    "show_as_html(countries_new.sort('Number_of_Stations', ascending = False),5)"
   ]
  },
  {
   "cell_type": "markdown",
   "metadata": {},
   "source": [
    "#### C.1  Count the total number of stations in each states and join these counts onto states"
   ]
  },
  {
   "cell_type": "code",
   "execution_count": 7,
   "metadata": {},
   "outputs": [
    {
     "data": {
      "text/html": [
       "<div>\n",
       "<style scoped>\n",
       "    .dataframe tbody tr th:only-of-type {\n",
       "        vertical-align: middle;\n",
       "    }\n",
       "\n",
       "    .dataframe tbody tr th {\n",
       "        vertical-align: top;\n",
       "    }\n",
       "\n",
       "    .dataframe thead th {\n",
       "        text-align: right;\n",
       "    }\n",
       "</style>\n",
       "<table border=\"1\" class=\"dataframe\">\n",
       "  <thead>\n",
       "    <tr style=\"text-align: right;\">\n",
       "      <th></th>\n",
       "      <th>State_Code</th>\n",
       "      <th>Number_of_Stations</th>\n",
       "    </tr>\n",
       "  </thead>\n",
       "  <tbody>\n",
       "    <tr>\n",
       "      <th>0</th>\n",
       "      <td>None</td>\n",
       "      <td>44055</td>\n",
       "    </tr>\n",
       "    <tr>\n",
       "      <th>1</th>\n",
       "      <td>TX</td>\n",
       "      <td>6350</td>\n",
       "    </tr>\n",
       "    <tr>\n",
       "      <th>2</th>\n",
       "      <td>CO</td>\n",
       "      <td>4735</td>\n",
       "    </tr>\n",
       "    <tr>\n",
       "      <th>3</th>\n",
       "      <td>CA</td>\n",
       "      <td>3138</td>\n",
       "    </tr>\n",
       "    <tr>\n",
       "      <th>4</th>\n",
       "      <td>NC</td>\n",
       "      <td>2692</td>\n",
       "    </tr>\n",
       "    <tr>\n",
       "      <th>5</th>\n",
       "      <td>NE</td>\n",
       "      <td>2415</td>\n",
       "    </tr>\n",
       "    <tr>\n",
       "      <th>6</th>\n",
       "      <td>MN</td>\n",
       "      <td>2386</td>\n",
       "    </tr>\n",
       "    <tr>\n",
       "      <th>7</th>\n",
       "      <td>KS</td>\n",
       "      <td>2312</td>\n",
       "    </tr>\n",
       "    <tr>\n",
       "      <th>8</th>\n",
       "      <td>NM</td>\n",
       "      <td>2273</td>\n",
       "    </tr>\n",
       "    <tr>\n",
       "      <th>9</th>\n",
       "      <td>FL</td>\n",
       "      <td>2205</td>\n",
       "    </tr>\n",
       "  </tbody>\n",
       "</table>\n",
       "</div>"
      ],
      "text/plain": [
       "  State_Code  Number_of_Stations\n",
       "0       None               44055\n",
       "1         TX                6350\n",
       "2         CO                4735\n",
       "3         CA                3138\n",
       "4         NC                2692\n",
       "5         NE                2415\n",
       "6         MN                2386\n",
       "7         KS                2312\n",
       "8         NM                2273\n",
       "9         FL                2205"
      ]
     },
     "metadata": {},
     "output_type": "display_data"
    }
   ],
   "source": [
    "# The number of stations in each state.\n",
    "stations_each_state = (stations.\n",
    "                       groupBy(F.col('State_Code')).\n",
    "                       agg(F.count('Station_ID').alias('Number_of_Stations'))\n",
    "                       )\n",
    "\n",
    "# Show the output\n",
    "show_as_html(stations_each_state.sort('Number_of_Stations', ascending = False),10)"
   ]
  },
  {
   "cell_type": "code",
   "execution_count": 8,
   "metadata": {},
   "outputs": [
    {
     "data": {
      "text/html": [
       "<div>\n",
       "<style scoped>\n",
       "    .dataframe tbody tr th:only-of-type {\n",
       "        vertical-align: middle;\n",
       "    }\n",
       "\n",
       "    .dataframe tbody tr th {\n",
       "        vertical-align: top;\n",
       "    }\n",
       "\n",
       "    .dataframe thead th {\n",
       "        text-align: right;\n",
       "    }\n",
       "</style>\n",
       "<table border=\"1\" class=\"dataframe\">\n",
       "  <thead>\n",
       "    <tr style=\"text-align: right;\">\n",
       "      <th></th>\n",
       "      <th>State_Code</th>\n",
       "      <th>State_Name</th>\n",
       "      <th>Number_of_Stations</th>\n",
       "    </tr>\n",
       "  </thead>\n",
       "  <tbody>\n",
       "    <tr>\n",
       "      <th>0</th>\n",
       "      <td>TX</td>\n",
       "      <td>TEXAS</td>\n",
       "      <td>6350</td>\n",
       "    </tr>\n",
       "    <tr>\n",
       "      <th>1</th>\n",
       "      <td>CO</td>\n",
       "      <td>COLORADO</td>\n",
       "      <td>4735</td>\n",
       "    </tr>\n",
       "    <tr>\n",
       "      <th>2</th>\n",
       "      <td>CA</td>\n",
       "      <td>CALIFORNIA</td>\n",
       "      <td>3138</td>\n",
       "    </tr>\n",
       "    <tr>\n",
       "      <th>3</th>\n",
       "      <td>NC</td>\n",
       "      <td>NORTH CAROLINA</td>\n",
       "      <td>2692</td>\n",
       "    </tr>\n",
       "    <tr>\n",
       "      <th>4</th>\n",
       "      <td>NE</td>\n",
       "      <td>NEBRASKA</td>\n",
       "      <td>2415</td>\n",
       "    </tr>\n",
       "  </tbody>\n",
       "</table>\n",
       "</div>"
      ],
      "text/plain": [
       "  State_Code      State_Name  Number_of_Stations\n",
       "0         TX           TEXAS                6350\n",
       "1         CO        COLORADO                4735\n",
       "2         CA      CALIFORNIA                3138\n",
       "3         NC  NORTH CAROLINA                2692\n",
       "4         NE        NEBRASKA                2415"
      ]
     },
     "metadata": {},
     "output_type": "display_data"
    }
   ],
   "source": [
    "# Read the states data \n",
    "state_raw = spark.read.text(\"hdfs:///data/ghcnd/ghcnd-states.txt\")\n",
    "states = state_raw.select(\n",
    "    F.trim(F.substring(state_raw.value, 1, 2)).alias(\"State_Code\"),\n",
    "    F.trim(F.substring(state_raw.value, 4, 47)).alias(\"State_Name\")\n",
    ")\n",
    "\n",
    "# Join the stations by each states onto states table \n",
    "states_new = (states.join(stations_each_state, 'State_Code', how = 'left'))\n",
    "\n",
    "# Show the output by descending order\n",
    "\n",
    "show_as_html(states_new.sort('Number_of_Stations', ascending = False),5)"
   ]
  },
  {
   "cell_type": "markdown",
   "metadata": {},
   "source": [
    "### Plot top 10 countries and states with highest stations "
   ]
  },
  {
   "cell_type": "code",
   "execution_count": 11,
   "metadata": {},
   "outputs": [],
   "source": [
    "import pandas as pd\n",
    "# Convert PySpark DataFrames to Pandas\n",
    "countries_new_pd = countries_new.toPandas()\n",
    "states_new_pd = states_new.toPandas()"
   ]
  },
  {
   "cell_type": "code",
   "execution_count": 16,
   "metadata": {},
   "outputs": [],
   "source": [
    "# Sort the data and select top 10 countries and states\n",
    "top_10_countries = countries_new_pd.sort_values('Number_of_Stations', ascending=False).head(10)\n",
    "top_10_states = states_new_pd.sort_values('Number_of_Stations', ascending=False).head(10)"
   ]
  },
  {
   "cell_type": "code",
   "execution_count": 22,
   "metadata": {},
   "outputs": [
    {
     "data": {
      "image/png": "[encoded data removed]",
      "text/plain": [
       "<Figure size 864x432 with 2 Axes>"
      ]
     },
     "metadata": {
      "needs_background": "light"
     },
     "output_type": "display_data"
    }
   ],
   "source": [
    "import matplotlib.pyplot as plt\n",
    "\n",
    "# Set up the figure and axes for parallel plots\n",
    "fig, axes = plt.subplots(1, 2, figsize=(12, 6))\n",
    "\n",
    "# Plot top 10 countries\n",
    "axes[0].bar(top_10_countries['Country_Name'], top_10_countries['Number_of_Stations'], color='skyblue')\n",
    "axes[0].set_title('Top 10 Countries with the Highest Number of Weather Stations')\n",
    "axes[0].set_xlabel('Country')\n",
    "axes[0].set_ylabel('Number of Stations')\n",
    "axes[0].tick_params(axis='x', rotation=45)\n",
    "\n",
    "# Plot top 10 states\n",
    "axes[1].bar(top_10_states['State_Name'], top_10_states['Number_of_Stations'], color='skyblue')\n",
    "axes[1].set_title('Top 10 States with the Highest Number of Weather Stations')\n",
    "axes[1].set_xlabel('State')\n",
    "axes[1].set_ylabel('Number of Stations')\n",
    "axes[1].tick_params(axis='x', rotation=45)\n",
    "\n",
    "# Adjust layout\n",
    "plt.tight_layout()\n",
    "\n",
    "# Show plot\n",
    "plt.show()"
   ]
  },
  {
   "cell_type": "markdown",
   "metadata": {},
   "source": [
    "### Save Data to HDFS"
   ]
  },
  {
   "cell_type": "code",
   "execution_count": null,
   "metadata": {},
   "outputs": [],
   "source": [
    "# Save the countries_new table to HDFS as parquet for further analysis.\n",
    "countries_new.write.option('header', True).mode('overwrite')\n",
    " .parquet('hdfs:///user/kda115/ghcnd/result/new_countries.parquet')\n",
    "\n",
    "# Save the states_new table to HDFS as parquet for further analysis.\n",
    "states_new.write.option('header', True).mode('overwrite')\n",
    " .parquet('hdfs:///user/kda115/ghcnd/result/states_new.parquet')"
   ]
  },
  {
   "cell_type": "code",
   "execution_count": null,
   "metadata": {},
   "outputs": [],
   "source": [
    "# Check all saved files in my HDFS directory\n",
    "! hdfs dfs -ls \"hdfs:///user/kda115/ghcnd/result\""
   ]
  },
  {
   "cell_type": "code",
   "execution_count": 23,
   "metadata": {},
   "outputs": [
    {
     "data": {
      "text/html": [
       "<p><b>Spark</b></p><p>The spark session is <b><span style=\"color:red\">stopped</span></b>, confirm that <code>kda115 (jupyter)</code> is under the completed applications section in the Spark UI.</p><ul><li><a href=\"http://mathmadslinux2p.canterbury.ac.nz:8080/\" target=\"_blank\">Spark UI</a></li></ul>"
      ],
      "text/plain": [
       "<IPython.core.display.HTML object>"
      ]
     },
     "metadata": {},
     "output_type": "display_data"
    }
   ],
   "source": [
    "# Run this cell before closing the notebook or kill your spark application by hand using the link in the Spark UI\n",
    "\n",
    "stop_spark()"
   ]
  },
  {
   "cell_type": "code",
   "execution_count": null,
   "metadata": {},
   "outputs": [],
   "source": []
  }
 ],
 "metadata": {
  "kernelspec": {
   "display_name": "Python 3",
   "language": "python",
   "name": "python3"
  },
  "language_info": {
   "codemirror_mode": {
    "name": "ipython",
    "version": 3
   },
   "file_extension": ".py",
   "mimetype": "text/x-python",
   "name": "python",
   "nbconvert_exporter": "python",
   "pygments_lexer": "ipython3",
   "version": "3.7.0"
  }
 },
 "nbformat": 4,
 "nbformat_minor": 2
}
